{
  "cells": [
    {
      "cell_type": "code",
      "execution_count": 1,
      "metadata": {
        "colab": {
          "base_uri": "https://localhost:8080/"
        },
        "id": "8lPHMfFzjZhh",
        "outputId": "295900f4-df4b-4a33-a6f5-9d9970469301"
      },
      "outputs": [
        {
          "output_type": "stream",
          "name": "stdout",
          "text": [
            "Requirement already satisfied: gensim==4.3.2 in /usr/local/lib/python3.10/dist-packages (4.3.2)\n",
            "Requirement already satisfied: numpy>=1.18.5 in /usr/local/lib/python3.10/dist-packages (from gensim==4.3.2) (1.23.5)\n",
            "Requirement already satisfied: scipy>=1.7.0 in /usr/local/lib/python3.10/dist-packages (from gensim==4.3.2) (1.11.3)\n",
            "Requirement already satisfied: smart-open>=1.8.1 in /usr/local/lib/python3.10/dist-packages (from gensim==4.3.2) (6.4.0)\n"
          ]
        }
      ],
      "source": [
        "!pip install gensim==4.3.2"
      ]
    },
    {
      "cell_type": "code",
      "execution_count": 3,
      "metadata": {
        "id": "MZObVA3Pn8wj"
      },
      "outputs": [],
      "source": [
        "from gensim.models import FastText, KeyedVectors\n",
        "import string\n",
        "import os\n",
        "import pandas as pd\n",
        "punctuations = set(string.punctuation)"
      ]
    },
    {
      "cell_type": "code",
      "execution_count": 25,
      "metadata": {
        "id": "2QwlUJbUou20"
      },
      "outputs": [],
      "source": [
        "def create_dir(output_dir):\n",
        "    if not os.path.exists(output_dir):\n",
        "        os.makedirs(output_dir)\n",
        "\n",
        "\n",
        "def preprocess(myfile):\n",
        "    with open(myfile, encoding='utf-8') as f:\n",
        "        text_lines  = f.readlines()\n",
        "    n_tokens = 0\n",
        "    new_text_lines = []\n",
        "    token_set = []\n",
        "    for text in text_lines:\n",
        "        text_tokens = text.split()\n",
        "        new_text_tokens = [word for word in text_tokens if word not in punctuations]\n",
        "        new_text_lines.append(new_text_tokens)\n",
        "        n_tokens+=len(new_text_tokens)\n",
        "        token_set+=new_text_tokens\n",
        "\n",
        "    print(\"# sentences\", len(new_text_lines))\n",
        "    print(\"# Tokens \", n_tokens)\n",
        "    print(\"# Vocabulary \", len(set(token_set)))\n",
        "\n",
        "    return new_text_lines\n",
        "\n",
        "\n",
        "#https://radimrehurek.com/gensim/auto_examples/tutorials/run_word2vec.html#\n",
        "#https://radimrehurek.com/gensim/models/word2vec.html#module-gensim.models.word2vec\n",
        "#https://radimrehurek.com/gensim/auto_examples/tutorials/run_fasttext.html\n",
        "def train_fastText(data_path, lang):\n",
        "    model_full = FastText(preprocess('/content/drive/MyDrive/Text Representation/yoruba.txt'), vector_size=300, window=5, min_count=3, workers=4, sg=1, epochs=10, negative=10)\n",
        "    output_dir = data_path+\"embeddings/\"+lang+\"/\"\n",
        "    create_dir(output_dir)\n",
        "    model_full.wv.save(output_dir+lang+\".bin\")\n",
        "    print(\"embedding training Done\")\n"
      ]
    },
    {
      "cell_type": "code",
      "source": [
        "train_fastText(data_path, 'yoruba')"
      ],
      "metadata": {
        "colab": {
          "base_uri": "https://localhost:8080/"
        },
        "id": "qzAuW75xn1S_",
        "outputId": "a63ed271-2cd8-4d61-d7c1-03da02b1aa85"
      },
      "execution_count": 26,
      "outputs": [
        {
          "output_type": "stream",
          "name": "stdout",
          "text": [
            "# sentences 3397\n",
            "# Tokens  111670\n",
            "# Vocabulary  14372\n",
            "embedding training Done\n"
          ]
        }
      ]
    },
    {
      "cell_type": "code",
      "execution_count": 27,
      "metadata": {
        "id": "2A2iNoSp6gdN",
        "colab": {
          "base_uri": "https://localhost:8080/",
          "height": 206
        },
        "outputId": "aeae730a-e5e2-45fe-b0fb-194e5281a635"
      },
      "outputs": [
        {
          "output_type": "execute_result",
          "data": {
            "text/plain": [
              "   S/N  English1  English2   Yoruba1        Yoruba2  EngSim\n",
              "0    1     tiger       cat      ẹkùn         ológbò    7.35\n",
              "1    2     tiger     tiger      ẹkùn           ẹkùn   10.00\n",
              "2    3      book     paper       ìwé           bébà    7.46\n",
              "3    4  computer  keyboard  kọ̀mpútà  pátákó ìtẹ̀wé    7.62\n",
              "4    5  computer  internet  kọ̀mpútà      ayélujára    7.58"
            ],
            "text/html": [
              "\n",
              "  <div id=\"df-33c89350-5926-49e6-9cbb-4f423ba049ca\" class=\"colab-df-container\">\n",
              "    <div>\n",
              "<style scoped>\n",
              "    .dataframe tbody tr th:only-of-type {\n",
              "        vertical-align: middle;\n",
              "    }\n",
              "\n",
              "    .dataframe tbody tr th {\n",
              "        vertical-align: top;\n",
              "    }\n",
              "\n",
              "    .dataframe thead th {\n",
              "        text-align: right;\n",
              "    }\n",
              "</style>\n",
              "<table border=\"1\" class=\"dataframe\">\n",
              "  <thead>\n",
              "    <tr style=\"text-align: right;\">\n",
              "      <th></th>\n",
              "      <th>S/N</th>\n",
              "      <th>English1</th>\n",
              "      <th>English2</th>\n",
              "      <th>Yoruba1</th>\n",
              "      <th>Yoruba2</th>\n",
              "      <th>EngSim</th>\n",
              "    </tr>\n",
              "  </thead>\n",
              "  <tbody>\n",
              "    <tr>\n",
              "      <th>0</th>\n",
              "      <td>1</td>\n",
              "      <td>tiger</td>\n",
              "      <td>cat</td>\n",
              "      <td>ẹkùn</td>\n",
              "      <td>ológbò</td>\n",
              "      <td>7.35</td>\n",
              "    </tr>\n",
              "    <tr>\n",
              "      <th>1</th>\n",
              "      <td>2</td>\n",
              "      <td>tiger</td>\n",
              "      <td>tiger</td>\n",
              "      <td>ẹkùn</td>\n",
              "      <td>ẹkùn</td>\n",
              "      <td>10.00</td>\n",
              "    </tr>\n",
              "    <tr>\n",
              "      <th>2</th>\n",
              "      <td>3</td>\n",
              "      <td>book</td>\n",
              "      <td>paper</td>\n",
              "      <td>ìwé</td>\n",
              "      <td>bébà</td>\n",
              "      <td>7.46</td>\n",
              "    </tr>\n",
              "    <tr>\n",
              "      <th>3</th>\n",
              "      <td>4</td>\n",
              "      <td>computer</td>\n",
              "      <td>keyboard</td>\n",
              "      <td>kọ̀mpútà</td>\n",
              "      <td>pátákó ìtẹ̀wé</td>\n",
              "      <td>7.62</td>\n",
              "    </tr>\n",
              "    <tr>\n",
              "      <th>4</th>\n",
              "      <td>5</td>\n",
              "      <td>computer</td>\n",
              "      <td>internet</td>\n",
              "      <td>kọ̀mpútà</td>\n",
              "      <td>ayélujára</td>\n",
              "      <td>7.58</td>\n",
              "    </tr>\n",
              "  </tbody>\n",
              "</table>\n",
              "</div>\n",
              "    <div class=\"colab-df-buttons\">\n",
              "\n",
              "  <div class=\"colab-df-container\">\n",
              "    <button class=\"colab-df-convert\" onclick=\"convertToInteractive('df-33c89350-5926-49e6-9cbb-4f423ba049ca')\"\n",
              "            title=\"Convert this dataframe to an interactive table.\"\n",
              "            style=\"display:none;\">\n",
              "\n",
              "  <svg xmlns=\"http://www.w3.org/2000/svg\" height=\"24px\" viewBox=\"0 -960 960 960\">\n",
              "    <path d=\"M120-120v-720h720v720H120Zm60-500h600v-160H180v160Zm220 220h160v-160H400v160Zm0 220h160v-160H400v160ZM180-400h160v-160H180v160Zm440 0h160v-160H620v160ZM180-180h160v-160H180v160Zm440 0h160v-160H620v160Z\"/>\n",
              "  </svg>\n",
              "    </button>\n",
              "\n",
              "  <style>\n",
              "    .colab-df-container {\n",
              "      display:flex;\n",
              "      gap: 12px;\n",
              "    }\n",
              "\n",
              "    .colab-df-convert {\n",
              "      background-color: #E8F0FE;\n",
              "      border: none;\n",
              "      border-radius: 50%;\n",
              "      cursor: pointer;\n",
              "      display: none;\n",
              "      fill: #1967D2;\n",
              "      height: 32px;\n",
              "      padding: 0 0 0 0;\n",
              "      width: 32px;\n",
              "    }\n",
              "\n",
              "    .colab-df-convert:hover {\n",
              "      background-color: #E2EBFA;\n",
              "      box-shadow: 0px 1px 2px rgba(60, 64, 67, 0.3), 0px 1px 3px 1px rgba(60, 64, 67, 0.15);\n",
              "      fill: #174EA6;\n",
              "    }\n",
              "\n",
              "    .colab-df-buttons div {\n",
              "      margin-bottom: 4px;\n",
              "    }\n",
              "\n",
              "    [theme=dark] .colab-df-convert {\n",
              "      background-color: #3B4455;\n",
              "      fill: #D2E3FC;\n",
              "    }\n",
              "\n",
              "    [theme=dark] .colab-df-convert:hover {\n",
              "      background-color: #434B5C;\n",
              "      box-shadow: 0px 1px 3px 1px rgba(0, 0, 0, 0.15);\n",
              "      filter: drop-shadow(0px 1px 2px rgba(0, 0, 0, 0.3));\n",
              "      fill: #FFFFFF;\n",
              "    }\n",
              "  </style>\n",
              "\n",
              "    <script>\n",
              "      const buttonEl =\n",
              "        document.querySelector('#df-33c89350-5926-49e6-9cbb-4f423ba049ca button.colab-df-convert');\n",
              "      buttonEl.style.display =\n",
              "        google.colab.kernel.accessAllowed ? 'block' : 'none';\n",
              "\n",
              "      async function convertToInteractive(key) {\n",
              "        const element = document.querySelector('#df-33c89350-5926-49e6-9cbb-4f423ba049ca');\n",
              "        const dataTable =\n",
              "          await google.colab.kernel.invokeFunction('convertToInteractive',\n",
              "                                                    [key], {});\n",
              "        if (!dataTable) return;\n",
              "\n",
              "        const docLinkHtml = 'Like what you see? Visit the ' +\n",
              "          '<a target=\"_blank\" href=https://colab.research.google.com/notebooks/data_table.ipynb>data table notebook</a>'\n",
              "          + ' to learn more about interactive tables.';\n",
              "        element.innerHTML = '';\n",
              "        dataTable['output_type'] = 'display_data';\n",
              "        await google.colab.output.renderOutput(dataTable, element);\n",
              "        const docLink = document.createElement('div');\n",
              "        docLink.innerHTML = docLinkHtml;\n",
              "        element.appendChild(docLink);\n",
              "      }\n",
              "    </script>\n",
              "  </div>\n",
              "\n",
              "\n",
              "<div id=\"df-e03a4742-0bc2-4168-b4ff-4bcc262a8e62\">\n",
              "  <button class=\"colab-df-quickchart\" onclick=\"quickchart('df-e03a4742-0bc2-4168-b4ff-4bcc262a8e62')\"\n",
              "            title=\"Suggest charts.\"\n",
              "            style=\"display:none;\">\n",
              "\n",
              "<svg xmlns=\"http://www.w3.org/2000/svg\" height=\"24px\"viewBox=\"0 0 24 24\"\n",
              "     width=\"24px\">\n",
              "    <g>\n",
              "        <path d=\"M19 3H5c-1.1 0-2 .9-2 2v14c0 1.1.9 2 2 2h14c1.1 0 2-.9 2-2V5c0-1.1-.9-2-2-2zM9 17H7v-7h2v7zm4 0h-2V7h2v10zm4 0h-2v-4h2v4z\"/>\n",
              "    </g>\n",
              "</svg>\n",
              "  </button>\n",
              "\n",
              "<style>\n",
              "  .colab-df-quickchart {\n",
              "      --bg-color: #E8F0FE;\n",
              "      --fill-color: #1967D2;\n",
              "      --hover-bg-color: #E2EBFA;\n",
              "      --hover-fill-color: #174EA6;\n",
              "      --disabled-fill-color: #AAA;\n",
              "      --disabled-bg-color: #DDD;\n",
              "  }\n",
              "\n",
              "  [theme=dark] .colab-df-quickchart {\n",
              "      --bg-color: #3B4455;\n",
              "      --fill-color: #D2E3FC;\n",
              "      --hover-bg-color: #434B5C;\n",
              "      --hover-fill-color: #FFFFFF;\n",
              "      --disabled-bg-color: #3B4455;\n",
              "      --disabled-fill-color: #666;\n",
              "  }\n",
              "\n",
              "  .colab-df-quickchart {\n",
              "    background-color: var(--bg-color);\n",
              "    border: none;\n",
              "    border-radius: 50%;\n",
              "    cursor: pointer;\n",
              "    display: none;\n",
              "    fill: var(--fill-color);\n",
              "    height: 32px;\n",
              "    padding: 0;\n",
              "    width: 32px;\n",
              "  }\n",
              "\n",
              "  .colab-df-quickchart:hover {\n",
              "    background-color: var(--hover-bg-color);\n",
              "    box-shadow: 0 1px 2px rgba(60, 64, 67, 0.3), 0 1px 3px 1px rgba(60, 64, 67, 0.15);\n",
              "    fill: var(--button-hover-fill-color);\n",
              "  }\n",
              "\n",
              "  .colab-df-quickchart-complete:disabled,\n",
              "  .colab-df-quickchart-complete:disabled:hover {\n",
              "    background-color: var(--disabled-bg-color);\n",
              "    fill: var(--disabled-fill-color);\n",
              "    box-shadow: none;\n",
              "  }\n",
              "\n",
              "  .colab-df-spinner {\n",
              "    border: 2px solid var(--fill-color);\n",
              "    border-color: transparent;\n",
              "    border-bottom-color: var(--fill-color);\n",
              "    animation:\n",
              "      spin 1s steps(1) infinite;\n",
              "  }\n",
              "\n",
              "  @keyframes spin {\n",
              "    0% {\n",
              "      border-color: transparent;\n",
              "      border-bottom-color: var(--fill-color);\n",
              "      border-left-color: var(--fill-color);\n",
              "    }\n",
              "    20% {\n",
              "      border-color: transparent;\n",
              "      border-left-color: var(--fill-color);\n",
              "      border-top-color: var(--fill-color);\n",
              "    }\n",
              "    30% {\n",
              "      border-color: transparent;\n",
              "      border-left-color: var(--fill-color);\n",
              "      border-top-color: var(--fill-color);\n",
              "      border-right-color: var(--fill-color);\n",
              "    }\n",
              "    40% {\n",
              "      border-color: transparent;\n",
              "      border-right-color: var(--fill-color);\n",
              "      border-top-color: var(--fill-color);\n",
              "    }\n",
              "    60% {\n",
              "      border-color: transparent;\n",
              "      border-right-color: var(--fill-color);\n",
              "    }\n",
              "    80% {\n",
              "      border-color: transparent;\n",
              "      border-right-color: var(--fill-color);\n",
              "      border-bottom-color: var(--fill-color);\n",
              "    }\n",
              "    90% {\n",
              "      border-color: transparent;\n",
              "      border-bottom-color: var(--fill-color);\n",
              "    }\n",
              "  }\n",
              "</style>\n",
              "\n",
              "  <script>\n",
              "    async function quickchart(key) {\n",
              "      const quickchartButtonEl =\n",
              "        document.querySelector('#' + key + ' button');\n",
              "      quickchartButtonEl.disabled = true;  // To prevent multiple clicks.\n",
              "      quickchartButtonEl.classList.add('colab-df-spinner');\n",
              "      try {\n",
              "        const charts = await google.colab.kernel.invokeFunction(\n",
              "            'suggestCharts', [key], {});\n",
              "      } catch (error) {\n",
              "        console.error('Error during call to suggestCharts:', error);\n",
              "      }\n",
              "      quickchartButtonEl.classList.remove('colab-df-spinner');\n",
              "      quickchartButtonEl.classList.add('colab-df-quickchart-complete');\n",
              "    }\n",
              "    (() => {\n",
              "      let quickchartButtonEl =\n",
              "        document.querySelector('#df-e03a4742-0bc2-4168-b4ff-4bcc262a8e62 button');\n",
              "      quickchartButtonEl.style.display =\n",
              "        google.colab.kernel.accessAllowed ? 'block' : 'none';\n",
              "    })();\n",
              "  </script>\n",
              "</div>\n",
              "    </div>\n",
              "  </div>\n"
            ]
          },
          "metadata": {},
          "execution_count": 27
        }
      ],
      "source": [
        "data_path = \"/content/drive/MyDrive/Text Representation/datasets/wordSim353.csv\"\n",
        "wordsim = pd.read_csv(data_path)\n",
        "wordsim.head()"
      ]
    },
    {
      "cell_type": "code",
      "source": [
        "model = KeyedVectors.load(\"/content/drive/MyDrive/Text Representation/datasets/wordSim353.csvembeddings/yoruba/yoruba.bin\")"
      ],
      "metadata": {
        "id": "pqo9wIihrzmB"
      },
      "execution_count": 28,
      "outputs": []
    },
    {
      "cell_type": "code",
      "source": [
        "\n",
        "found = []\n",
        "for i in range(0,353):\n",
        "    p=None\n",
        "    try:\n",
        "        yor1 = wordSim353.at[i,'Yoruba1'].strip()\n",
        "        yor2 = wordSim353.at[i,'Yoruba2'].strip()\n",
        "        p=round(model.similarity(yor1, yor2) * 10,2)\n",
        "        found.append(i)\n",
        "    except:\n",
        "        pass\n",
        "    wordsim.at[i,'model']=p\n",
        "print(\"# pairs of words found: \", len(found))\n",
        "#print(found)\n",
        "#print(len(set(found) & set(found_pairs)))\n"
      ],
      "metadata": {
        "colab": {
          "base_uri": "https://localhost:8080/"
        },
        "id": "8QlHS044sdg-",
        "outputId": "4e28ce7e-b453-46e1-fdee-b686beae150d"
      },
      "execution_count": 29,
      "outputs": [
        {
          "output_type": "stream",
          "name": "stdout",
          "text": [
            "# pairs of words found:  0\n"
          ]
        }
      ]
    },
    {
      "cell_type": "code",
      "source": [
        "from scipy.stats import spearmanr\n",
        "ourcorr1, p_value1 = spearmanr(wordsim.Yoruba,wordsim.model, nan_policy=\"omit\")"
      ],
      "metadata": {
        "id": "igcoE_w3pHnA"
      },
      "execution_count": 18,
      "outputs": []
    },
    {
      "cell_type": "code",
      "source": [
        "ourcorr1\n",
        "\n",
        "0.15765993421369978\n",
        "\n",
        "wv = model.word_vec\n",
        "\n",
        "\n",
        "model['ọdọ̀']"
      ],
      "metadata": {
        "colab": {
          "base_uri": "https://localhost:8080/"
        },
        "id": "Fwx943URpUIF",
        "outputId": "12220137-5ce0-4fe2-e45e-9faa3802d1b2"
      },
      "execution_count": 30,
      "outputs": [
        {
          "output_type": "execute_result",
          "data": {
            "text/plain": [
              "array([-4.62786295e-02, -4.39219363e-02, -1.47762774e-02,  7.12207425e-03,\n",
              "       -1.83496311e-01, -3.50847766e-02, -1.14363581e-02, -4.80968520e-05,\n",
              "        1.17513299e-01,  1.47885289e-02,  1.07411787e-01, -9.50299203e-02,\n",
              "        2.51120001e-01, -1.02194466e-01, -2.01771572e-01, -7.67978206e-02,\n",
              "        1.85966805e-01, -1.89607173e-01,  2.98526827e-02, -1.50551468e-01,\n",
              "       -6.17945269e-02, -9.85621959e-02,  7.31451288e-02, -7.37788677e-02,\n",
              "        1.99896246e-02, -7.38658085e-02,  1.16045237e-01, -2.29634911e-01,\n",
              "        7.49319345e-02, -1.50093630e-01,  1.14465699e-01, -1.91878200e-01,\n",
              "       -1.52376145e-01, -1.57559112e-01,  2.12592147e-02, -7.97777325e-02,\n",
              "        6.51537403e-02, -1.01624466e-01,  1.60018116e-01,  2.36706972e-01,\n",
              "        2.04797871e-02, -9.58587304e-02, -5.25653064e-02, -2.68158615e-01,\n",
              "        2.91449279e-02,  1.38766199e-01,  3.16993624e-01,  2.46165082e-01,\n",
              "       -2.65524149e-01,  1.02484249e-01, -1.19676232e-01,  2.24283054e-01,\n",
              "        1.66099951e-01,  6.04315475e-02, -1.95701391e-01,  1.37399718e-01,\n",
              "        1.04105316e-01, -2.77191289e-02, -8.94866139e-02, -1.01498462e-01,\n",
              "        9.79372263e-02, -2.48773575e-01, -2.00717658e-01, -3.49708259e-01,\n",
              "        1.93456084e-01, -9.34292227e-02, -1.11273542e-01, -3.23777825e-01,\n",
              "       -2.16175035e-01,  9.50936750e-02,  1.08176433e-01, -5.90627193e-02,\n",
              "       -8.00142065e-02,  1.37668271e-02,  8.61451309e-03,  7.88995065e-03,\n",
              "       -1.80822596e-01,  2.26408485e-02, -1.67628944e-01,  2.96693929e-02,\n",
              "       -7.81614333e-02, -1.16081081e-01, -2.61508729e-02,  1.14359185e-01,\n",
              "       -1.90550059e-01,  4.56543304e-02, -7.14262435e-03, -5.44538796e-02,\n",
              "        4.94000092e-02, -3.04914955e-02,  1.06016718e-01, -1.14117358e-02,\n",
              "       -5.80190197e-02, -5.50853908e-02,  2.02697560e-01,  9.28550214e-02,\n",
              "        1.44574076e-01,  2.44052559e-01, -2.37298414e-01,  3.31583112e-01,\n",
              "        1.15897276e-01,  6.89751655e-02,  6.85665617e-03, -1.37030482e-01,\n",
              "        6.51518479e-02, -4.61741257e-03,  1.49287611e-01, -8.17785263e-02,\n",
              "       -2.13501960e-01, -4.75170724e-02, -4.64004055e-02,  1.19826294e-01,\n",
              "        1.55810162e-01,  8.27279314e-02,  5.31818569e-02, -1.10403046e-01,\n",
              "        7.87197500e-02,  7.01466650e-02,  6.80337707e-03,  1.64848585e-02,\n",
              "        1.71036258e-01, -5.79250464e-03,  1.46377191e-01,  1.07753932e-01,\n",
              "       -1.64296702e-02,  1.07962392e-01, -5.02737649e-02, -2.37991005e-01,\n",
              "       -1.45260483e-01, -5.34317195e-02,  4.33527194e-02,  8.42034966e-02,\n",
              "        8.83537680e-02,  6.38407245e-02,  1.02670342e-02,  4.75806631e-02,\n",
              "        4.39561307e-02, -1.71098471e-01, -7.71021843e-02, -1.58896044e-01,\n",
              "       -2.94973880e-01, -1.45778973e-02, -1.59239620e-01, -1.85163409e-01,\n",
              "       -6.81915879e-02,  1.57503977e-01, -1.57851577e-01, -2.01510824e-02,\n",
              "       -1.50987148e-01, -1.25924423e-01, -7.71421567e-03, -6.88000917e-02,\n",
              "        4.26103994e-02, -1.53659731e-01, -1.40563980e-01,  1.18131004e-01,\n",
              "       -8.60368386e-02, -1.37646869e-01,  1.86885715e-01,  6.38234604e-04,\n",
              "       -4.72213142e-02,  2.12400466e-01,  8.87848511e-02, -5.18908799e-02,\n",
              "       -1.09418236e-01,  2.05780342e-02, -2.20178887e-01, -1.03306867e-01,\n",
              "       -2.06279472e-01,  1.13715991e-01,  1.99313968e-01, -1.14981547e-01,\n",
              "       -1.73560008e-01, -2.46996090e-01,  1.70120612e-01,  1.34769201e-01,\n",
              "        1.44577384e-01, -1.10337436e-01,  4.82285880e-02,  1.58614561e-01,\n",
              "        1.87976658e-02, -1.19899446e-02,  1.51928812e-01, -1.30520854e-02,\n",
              "       -1.09160103e-01,  2.78275192e-01,  2.70925134e-01,  2.13888720e-01,\n",
              "        6.28072917e-02,  6.19712658e-02, -4.37186584e-02, -1.14368066e-01,\n",
              "       -1.86201215e-01, -2.27804855e-02,  1.48342535e-01,  7.92568102e-02,\n",
              "       -3.87775078e-02, -2.09223002e-01, -4.49736491e-02, -1.06517924e-02,\n",
              "        3.27331722e-01,  1.16359234e-01, -5.96788004e-02,  6.42266721e-02,\n",
              "        3.33693624e-03, -1.11996159e-01, -1.88812286e-01,  5.18980026e-02,\n",
              "       -4.19778284e-03,  6.17748797e-02,  8.15138500e-03,  1.60171703e-01,\n",
              "       -1.40135258e-01,  4.09538262e-02,  1.58123478e-01, -1.86857104e-01,\n",
              "        6.10468397e-03, -2.72782713e-01, -4.61915791e-01,  2.02884227e-01,\n",
              "       -3.71412843e-01, -1.87287360e-01, -3.38921368e-01, -5.28312325e-02,\n",
              "        8.50401148e-02, -2.19634101e-01, -4.01438437e-02, -2.60220230e-01,\n",
              "        1.19663263e-02,  1.03290655e-01,  4.60717082e-03,  2.81795502e-01,\n",
              "        8.62723514e-02, -3.04917190e-02,  1.14036106e-01,  2.68634949e-02,\n",
              "       -2.09833076e-03, -1.48366034e-01, -5.61595848e-03, -1.46770790e-01,\n",
              "       -1.84918359e-01, -1.22083470e-01,  4.30085137e-02,  3.78031045e-01,\n",
              "        2.60070711e-02, -7.94344321e-02, -7.10350424e-02,  2.22359464e-01,\n",
              "       -7.44704902e-03,  5.26811555e-02, -2.86189973e-01, -1.92080349e-01,\n",
              "       -6.26639724e-02,  1.94096699e-01, -8.21670070e-02,  1.16257176e-01,\n",
              "        3.24648470e-02, -1.50617033e-01, -1.00488044e-01, -1.16868794e-01,\n",
              "        4.83863726e-02,  2.17705637e-01, -1.46921068e-01, -9.94229838e-02,\n",
              "       -1.08902909e-01,  1.49112910e-01, -1.60570100e-01,  1.98652193e-01,\n",
              "       -1.34991676e-01,  5.35833947e-02,  6.78812116e-02, -1.57493263e-01,\n",
              "        2.76477030e-03, -1.38172075e-01,  5.14495485e-02,  9.99508798e-03,\n",
              "       -5.22775352e-02,  1.37516484e-02, -3.60399485e-01,  2.26008177e-01,\n",
              "       -2.53889803e-02,  1.00533225e-01, -1.20739937e-01,  5.48392814e-03,\n",
              "        2.02063441e-01,  1.12182824e-02,  8.50440860e-02,  5.31553514e-02,\n",
              "       -9.16363597e-02,  1.67429119e-01,  4.90722433e-02, -6.89749420e-03,\n",
              "       -2.46889926e-02,  2.97308899e-02,  6.62362278e-02, -1.48227094e-02,\n",
              "       -4.43577394e-02, -1.26691535e-02,  9.66329128e-02,  3.50952372e-02],\n",
              "      dtype=float32)"
            ]
          },
          "metadata": {},
          "execution_count": 30
        }
      ]
    },
    {
      "cell_type": "code",
      "source": [
        "model.most_similar(\"igi\")"
      ],
      "metadata": {
        "colab": {
          "base_uri": "https://localhost:8080/"
        },
        "id": "hbo0YuthwU8-",
        "outputId": "f51d5da5-9812-40fc-9fb3-f79c8704a440"
      },
      "execution_count": 31,
      "outputs": [
        {
          "output_type": "execute_result",
          "data": {
            "text/plain": [
              "[('igi.', 0.8765624761581421),\n",
              " ('igi,', 0.8478281497955322),\n",
              " ('ọ̀pẹ', 0.8230783343315125),\n",
              " ('lulẹ̀', 0.7904080152511597),\n",
              " ('ọ̀pẹ.', 0.7889252305030823),\n",
              " ('Igi', 0.7784389853477478),\n",
              " ('abẹ́', 0.7695708274841309),\n",
              " ('balẹ̀', 0.7681936025619507),\n",
              " ('foríbalẹ̀', 0.7681863307952881),\n",
              " ('lulẹ̀,', 0.7598339319229126)]"
            ]
          },
          "metadata": {},
          "execution_count": 31
        }
      ]
    },
    {
      "cell_type": "code",
      "source": [
        "model.most_similar(\"ẹkùn\")"
      ],
      "metadata": {
        "colab": {
          "base_uri": "https://localhost:8080/"
        },
        "id": "4bbAwjmdQb_P",
        "outputId": "3ed243e8-be33-4537-be57-882c9692bf21"
      },
      "execution_count": 34,
      "outputs": [
        {
          "output_type": "execute_result",
          "data": {
            "text/plain": [
              "[('ikùn', 0.9774208664894104),\n",
              " ('rọrùn', 0.9766912460327148),\n",
              " ('ìlẹ̀kùn', 0.9756035804748535),\n",
              " ('Àrùn', 0.9745671153068542),\n",
              " ('okùn', 0.9725813865661621),\n",
              " ('sóòrùn', 0.9715046286582947),\n",
              " ('fọhùn', 0.9704322218894958),\n",
              " ('Àṣé', 0.9689681529998779),\n",
              " ('gígùn', 0.9678296446800232),\n",
              " ('Oòrùn', 0.9676233530044556)]"
            ]
          },
          "metadata": {},
          "execution_count": 34
        }
      ]
    },
    {
      "cell_type": "code",
      "source": [
        "model.most_similar(\"bata\")"
      ],
      "metadata": {
        "colab": {
          "base_uri": "https://localhost:8080/"
        },
        "id": "GViVKwIEwowW",
        "outputId": "9e918cc3-5473-4370-91c3-bf6e9f135c17"
      },
      "execution_count": 32,
      "outputs": [
        {
          "output_type": "execute_result",
          "data": {
            "text/plain": [
              "[('pẹlẹbẹ', 0.9776225686073303),\n",
              " ('wẹ', 0.9638885259628296),\n",
              " ('tete', 0.9627532958984375),\n",
              " ('10.', 0.9611928462982178),\n",
              " ('2023.', 0.9599006175994873),\n",
              " ('dẹ́kun', 0.958572268486023),\n",
              " ('fọ', 0.9574018716812134),\n",
              " ('po', 0.9568259716033936),\n",
              " ('ata', 0.9564055800437927),\n",
              " ('adẹ́tẹ̀', 0.9551315903663635)]"
            ]
          },
          "metadata": {},
          "execution_count": 32
        }
      ]
    },
    {
      "cell_type": "code",
      "source": [
        "model.most_similar(\"ogun\")"
      ],
      "metadata": {
        "colab": {
          "base_uri": "https://localhost:8080/"
        },
        "id": "-1ubRNeJwwte",
        "outputId": "f80ca817-b529-4037-d1df-b7c6425d4c2d"
      },
      "execution_count": 22,
      "outputs": [
        {
          "output_type": "execute_result",
          "data": {
            "text/plain": [
              "[('ologun', 0.9999558925628662),\n",
              " ('oogun', 0.9999520778656006),\n",
              " ('Balogun', 0.9999364018440247),\n",
              " ('Hamas', 0.9999244213104248),\n",
              " ('ikọlu', 0.999923825263977),\n",
              " ('Israel.', 0.9999210238456726),\n",
              " ('Israel', 0.9999207258224487),\n",
              " ('farapa', 0.9999129772186279),\n",
              " ('atawọn', 0.9999082088470459),\n",
              " ('Palestine', 0.9999076724052429)]"
            ]
          },
          "metadata": {},
          "execution_count": 22
        }
      ]
    },
    {
      "cell_type": "code",
      "source": [
        "model.most_similar(\"ògùn\")"
      ],
      "metadata": {
        "colab": {
          "base_uri": "https://localhost:8080/"
        },
        "id": "warr2J4WQs_z",
        "outputId": "cfa2e178-49b9-4068-9aaa-ae6e265d2d30"
      },
      "execution_count": 35,
      "outputs": [
        {
          "output_type": "execute_result",
          "data": {
            "text/plain": [
              "[('òògùn', 0.9798166155815125),\n",
              " ('gígùn', 0.9792511463165283),\n",
              " ('sóòrùn', 0.9778701663017273),\n",
              " ('Oòrùn', 0.9778334498405457),\n",
              " ('Àrùn', 0.9775603413581848),\n",
              " ('rọrùn', 0.9749994874000549),\n",
              " ('oògùn', 0.9745840430259705),\n",
              " ('tààrà', 0.9732843041419983),\n",
              " ('òòrùn', 0.9714354872703552),\n",
              " ('ọrùn', 0.9711557626724243)]"
            ]
          },
          "metadata": {},
          "execution_count": 35
        }
      ]
    },
    {
      "cell_type": "code",
      "source": [
        "model.most_similar(\"ògùn\")"
      ],
      "metadata": {
        "colab": {
          "base_uri": "https://localhost:8080/"
        },
        "outputId": "cfa2e178-49b9-4068-9aaa-ae6e265d2d30",
        "id": "_jriJa1YRCGZ"
      },
      "execution_count": null,
      "outputs": [
        {
          "output_type": "execute_result",
          "data": {
            "text/plain": [
              "[('òògùn', 0.9798166155815125),\n",
              " ('gígùn', 0.9792511463165283),\n",
              " ('sóòrùn', 0.9778701663017273),\n",
              " ('Oòrùn', 0.9778334498405457),\n",
              " ('Àrùn', 0.9775603413581848),\n",
              " ('rọrùn', 0.9749994874000549),\n",
              " ('oògùn', 0.9745840430259705),\n",
              " ('tààrà', 0.9732843041419983),\n",
              " ('òòrùn', 0.9714354872703552),\n",
              " ('ọrùn', 0.9711557626724243)]"
            ]
          },
          "metadata": {},
          "execution_count": 35
        }
      ]
    },
    {
      "cell_type": "code",
      "source": [
        "model.most_similar(\"ijọba\")"
      ],
      "metadata": {
        "colab": {
          "base_uri": "https://localhost:8080/"
        },
        "id": "IBbViYLYw4Pv",
        "outputId": "26451333-d9f0-4724-d686-26125627585d"
      },
      "execution_count": 36,
      "outputs": [
        {
          "output_type": "execute_result",
          "data": {
            "text/plain": [
              "[('agba', 0.9751817584037781),\n",
              " ('ija', 0.9750121831893921),\n",
              " ('eto', 0.970425009727478),\n",
              " ('Eko', 0.9679886698722839),\n",
              " ('ilu', 0.9671522378921509),\n",
              " ('ileẹjọ', 0.9668627977371216),\n",
              " ('yoo', 0.9666933417320251),\n",
              " ('Ọlọpaa', 0.9661507606506348),\n",
              " ('ọlọpaa', 0.9656313061714172),\n",
              " ('nigba', 0.9654848575592041)]"
            ]
          },
          "metadata": {},
          "execution_count": 36
        }
      ]
    }
  ],
  "metadata": {
    "colab": {
      "provenance": []
    },
    "kernelspec": {
      "display_name": "Python 3",
      "name": "python3"
    },
    "language_info": {
      "name": "python"
    }
  },
  "nbformat": 4,
  "nbformat_minor": 0
}